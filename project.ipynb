{
 "cells": [
  {
   "cell_type": "code",
   "execution_count": 2,
   "id": "76b78356-39d1-44a7-a9d0-fb90d472d6e6",
   "metadata": {},
   "outputs": [],
   "source": [
    "!pip install pyspark\n"
   ]
  },
  {
   "cell_type": "code",
   "execution_count": 3,
   "id": "1c501421-5403-482f-8b20-88509a38fa22",
   "metadata": {},
   "outputs": [],
   "source": [
    "\n",
    "from pyspark.sql import SparkSession\n",
    "from pyspark.sql.functions import col, hour, avg, count, when, lit"
   ]
  },
  {
   "cell_type": "code",
   "execution_count": null,
   "id": "c9459168-93c6-4315-9762-dcd12c2d16a2",
   "metadata": {},
   "outputs": [],
   "source": [
    "spark = SparkSession.builder \\\n",
    "    .appName(\"Metaverse Transactions Analysis\") \\\n",
    "    .getOrCreate()"
   ]
  },
  {
   "cell_type": "code",
   "execution_count": null,
   "id": "eb86fdf4-e73e-41be-ac08-992893638f5c",
   "metadata": {},
   "outputs": [],
   "source": [
    "file_path = \"metaverse_transactions_dataset.csv\"  # Update with your file path\n",
    "data = spark.read.csv(file_path, header=True, inferSchema=True)\n",
    "\n",
    "# Preview Dataset\n",
    "data.show(5)"
   ]
  },
  {
   "cell_type": "code",
   "execution_count": null,
   "id": "b29a9a9e-47a3-4ae2-a3c5-88cc8822215c",
   "metadata": {},
   "outputs": [],
   "source": [
    "# Goal 1: Examine the correlation between risk scores and anomalies across user profiles\n",
    "\n",
    "# Select relevant columns\n",
    "data.printSchema()\n",
    "\n",
    "\n",
    "\n"
   ]
  },
  {
   "cell_type": "code",
   "execution_count": null,
   "id": "9a987239-c475-4330-8725-16d014418b4c",
   "metadata": {},
   "outputs": [],
   "source": [
    "pip install matplotlib\n"
   ]
  },
  {
   "cell_type": "code",
   "execution_count": null,
   "id": "fe399419-745c-48b7-af1b-6225671fb716",
   "metadata": {},
   "outputs": [],
   "source": [
    "pip install seaborn\n"
   ]
  },
  {
   "cell_type": "code",
   "execution_count": null,
   "id": "7c9d2e8c-a6a6-4de6-afa9-ba38078ee44f",
   "metadata": {},
   "outputs": [],
   "source": [
    "# Goal 1: Examine the correlation between risk scores and anomalies across user profiles\n",
    "import pandas as pd\n",
    "import matplotlib.pyplot as plt\n",
    "import seaborn as sns\n",
    "\n",
    "# Load the dataset\n",
    "df = pd.read_csv('metaverse_transactions_dataset.csv')\n",
    "\n",
    "# Convert 'risk_score' and 'anomaly' columns to appropriate data types\n",
    "df['risk_score'] = pd.to_numeric(df['risk_score'], errors='coerce')\n",
    "df['anomaly'] = df['anomaly'].astype('category')\n",
    "\n",
    "# Plot the correlation between risk scores and anomalies\n",
    "plt.figure(figsize=(10, 6))\n",
    "sns.boxplot(x='anomaly', y='risk_score', data=df)\n",
    "plt.title('Correlation between Risk Scores and Anomalies')\n",
    "plt.xlabel('Anomaly')\n",
    "plt.ylabel('Risk Score')\n",
    "plt.xticks(rotation=45)\n",
    "plt.show()\n"
   ]
  },
  {
   "cell_type": "code",
   "execution_count": null,
   "id": "d75bcf08-76a1-41cb-8dab-568922e778fd",
   "metadata": {},
   "outputs": [],
   "source": [
    "import pandas as pd\n",
    "import matplotlib.pyplot as plt\n",
    "import seaborn as sns\n",
    "\n",
    "# Load the dataset\n",
    "df = pd.read_csv('metaverse_transactions_dataset.csv')\n",
    "\n",
    "# Group by 'location_region' and 'hour_of_day' to count the number of transactions\n",
    "activity_by_hour = df.groupby(['location_region', 'hour_of_day']).size().reset_index(name='activity_count')\n",
    "\n",
    "# Plot the activity by hour for different regions\n",
    "plt.figure(figsize=(14, 8))\n",
    "sns.lineplot(x='hour_of_day', y='activity_count', hue='location_region', data=activity_by_hour, marker='o')\n",
    "plt.title('Activity by Hour for Different Regions')\n",
    "plt.xlabel('Hour of Day')\n",
    "plt.ylabel('Activity Count')\n",
    "plt.xticks(range(0, 24))\n",
    "plt.grid(True)\n",
    "plt.legend(title='Region')\n",
    "plt.show()\n",
    "\n"
   ]
  },
  {
   "cell_type": "code",
   "execution_count": null,
   "id": "038ca919-6346-4230-835e-9f4b077b896e",
   "metadata": {},
   "outputs": [],
   "source": [
    "import pandas as pd\n",
    "import matplotlib.pyplot as plt\n",
    "import seaborn as sns\n",
    "\n",
    "# Load the dataset\n",
    "df = pd.read_csv('metaverse_transactions_dataset.csv')\n",
    "\n",
    "# Group by 'location_region' and 'transaction_type' to calculate the average amount\n",
    "avg_amount_by_transaction_type = df.groupby(['location_region', 'transaction_type'])['amount'].mean().reset_index()\n",
    "\n",
    "# Plot the average amount by transaction type for different regions\n",
    "plt.figure(figsize=(14, 8))\n",
    "sns.barplot(x='transaction_type', y='amount', hue='location_region', data=avg_amount_by_transaction_type)\n",
    "plt.title('Average Amount by Transaction Type for Different Regions')\n",
    "plt.xlabel('Transaction Type')\n",
    "plt.ylabel('Average Amount')\n",
    "plt.xticks(rotation=45)\n",
    "plt.legend(title='Region')\n",
    "plt.show()\n",
    "\n"
   ]
  },
  {
   "cell_type": "code",
   "execution_count": null,
   "id": "1a4b4fba-2003-42fc-b18c-f4489da578c1",
   "metadata": {},
   "outputs": [],
   "source": [
    "import pandas as pd\n",
    "\n",
    "# Load the dataset\n",
    "df = pd.read_csv('metaverse_transactions_dataset.csv')\n",
    "\n",
    "# Define a threshold to classify users into high-value and low-value groups\n",
    "high_value_threshold = df['amount'].quantile(0.75)\n",
    "\n",
    "# Classify users based on the threshold\n",
    "df['value_group'] = df['amount'].apply(lambda x: 'high_value' if x >= high_value_threshold else 'low_value')\n",
    "\n",
    "# Display the first few rows of the dataframe to verify the classification\n",
    "df[['sending_address', 'receiving_address', 'amount', 'value_group']].head()\n",
    "\n"
   ]
  },
  {
   "cell_type": "code",
   "execution_count": null,
   "id": "acb21ab4-aa8b-4d05-8fe1-ab4e4a5ac6c0",
   "metadata": {},
   "outputs": [],
   "source": []
  }
 ],
 "metadata": {
  "kernelspec": {
   "display_name": "Python 3 (ipykernel)",
   "language": "python",
   "name": "python3"
  },
  "language_info": {
   "codemirror_mode": {
    "name": "ipython",
    "version": 3
   },
   "file_extension": ".py",
   "mimetype": "text/x-python",
   "name": "python",
   "nbconvert_exporter": "python",
   "pygments_lexer": "ipython3",
   "version": "3.11.7"
  }
 },
 "nbformat": 4,
 "nbformat_minor": 5
}
